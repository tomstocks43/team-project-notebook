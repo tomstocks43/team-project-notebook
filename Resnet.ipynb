{
  "nbformat": 4,
  "nbformat_minor": 0,
  "metadata": {
    "colab": {
      "name": "Resnet.ipynb",
      "version": "0.3.2",
      "provenance": [],
      "collapsed_sections": [
        "Xbnrodfg_3Qn"
      ],
      "include_colab_link": true
    },
    "kernelspec": {
      "name": "python3",
      "display_name": "Python 3"
    },
    "accelerator": "GPU"
  },
  "cells": [
    {
      "cell_type": "markdown",
      "metadata": {
        "id": "view-in-github",
        "colab_type": "text"
      },
      "source": [
        "<a href=\"https://colab.research.google.com/github/tomstocks43/team-project-notebook/blob/master/Resnet.ipynb\" target=\"_parent\"><img src=\"https://colab.research.google.com/assets/colab-badge.svg\" alt=\"Open In Colab\"/></a>"
      ]
    },
    {
      "metadata": {
        "id": "bHGLeLiQBDmB",
        "colab_type": "text"
      },
      "cell_type": "markdown",
      "source": [
        "# ResNet50 for compound/non compound figure classification // Thomas Stocks\n",
        "\n",
        "## Use the Below Cell to link this notebook to the google drive of \"industrialprojectsheffield@gmail.com\". Email the team for password.\n"
      ]
    },
    {
      "metadata": {
        "id": "LLZD7crFTUGC",
        "colab_type": "code",
        "outputId": "efa6161b-53f3-4f32-e5f4-d4a121ad0b79",
        "colab": {
          "base_uri": "https://localhost:8080/",
          "height": 122
        }
      },
      "cell_type": "code",
      "source": [
        "# Load the Drive helper and mount\n",
        "from google.colab import drive\n",
        "\n",
        "# This will prompt for authorization.\n",
        "drive.mount('/content/drive')"
      ],
      "execution_count": 1,
      "outputs": [
        {
          "output_type": "stream",
          "text": [
            "Go to this URL in a browser: https://accounts.google.com/o/oauth2/auth?client_id=947318989803-6bn6qk8qdgf4n4g3pfee6491hc0brc4i.apps.googleusercontent.com&redirect_uri=urn%3Aietf%3Awg%3Aoauth%3A2.0%3Aoob&scope=email%20https%3A%2F%2Fwww.googleapis.com%2Fauth%2Fdocs.test%20https%3A%2F%2Fwww.googleapis.com%2Fauth%2Fdrive%20https%3A%2F%2Fwww.googleapis.com%2Fauth%2Fdrive.photos.readonly%20https%3A%2F%2Fwww.googleapis.com%2Fauth%2Fpeopleapi.readonly&response_type=code\n",
            "\n",
            "Enter your authorization code:\n",
            "··········\n",
            "Mounted at /content/drive\n"
          ],
          "name": "stdout"
        }
      ]
    },
    {
      "metadata": {
        "id": "Xbnrodfg_3Qn",
        "colab_type": "text"
      },
      "cell_type": "markdown",
      "source": [
        "## This code is for creating folders for each class and sorting the images into said classes."
      ]
    },
    {
      "metadata": {
        "id": "CNIWeylFTdH7",
        "colab_type": "code",
        "outputId": "711bae93-9d61-4c44-fe49-a1a2f3fba201",
        "colab": {
          "base_uri": "https://localhost:8080/",
          "height": 146
        }
      },
      "cell_type": "code",
      "source": [
        "#importing images and seperating labels into respective folders\n",
        "import json\n",
        "import sys\n",
        "import os\n",
        "from tqdm import tqdm\n",
        "from shutil import copyfile\n",
        "\n",
        "if os.path.isdir(\"drive/My Drive/Data/compound_figure\") and os.path.isdir(\"drive/My Drive/Data/non_compound_figure\"):\n",
        "  sys.exit('The 2 class subfolders already exist. Exiting...')\n",
        "\n",
        "path2json = 'drive/My Drive/d1_compound_not_compound/'\n",
        "rootdir = 'drive/My Drive/'\n",
        "newdatadir = rootdir + 'Data/'\n",
        "\n",
        "try:\n",
        "  os.mkdir(rootdir + 'Data')\n",
        "  os.mkdir(newdatadir + 'compound_figure')\n",
        "  os.mkdir(newdatadir + 'non_compound_figure')\n",
        "except:\n",
        "  pass\n",
        "\n",
        "\n",
        "with open(path2json+'labels.json') as label_file: \n",
        "  data = json.load(label_file)\n",
        "  for i in tqdm(range(len(data))):\n",
        "    fname = data[i]['filename']\n",
        "    label = data[i]['label']\n",
        "    dst = newdatadir+label+r'/'+fname\n",
        "       \n",
        "    copyfile(path2json + fname, dst)\n",
        "  \n"
      ],
      "execution_count": 1,
      "outputs": [
        {
          "output_type": "error",
          "ename": "SystemExit",
          "evalue": "ignored",
          "traceback": [
            "An exception has occurred, use %tb to see the full traceback.\n",
            "\u001b[0;31mSystemExit\u001b[0m\u001b[0;31m:\u001b[0m The 2 class subfolders already exist. Exiting...\n"
          ]
        },
        {
          "output_type": "stream",
          "text": [
            "/usr/local/lib/python3.6/dist-packages/IPython/core/interactiveshell.py:2890: UserWarning: To exit: use 'exit', 'quit', or Ctrl-D.\n",
            "  warn(\"To exit: use 'exit', 'quit', or Ctrl-D.\", stacklevel=1)\n"
          ],
          "name": "stderr"
        }
      ]
    },
    {
      "metadata": {
        "id": "jA6V3ZbrAGiH",
        "colab_type": "text"
      },
      "cell_type": "markdown",
      "source": [
        "##  This code sets up the data input stream and importing the model from keras"
      ]
    },
    {
      "metadata": {
        "id": "KtPz37L9T7h3",
        "colab_type": "code",
        "colab": {
          "base_uri": "https://localhost:8080/",
          "height": 85
        },
        "outputId": "1ac4e46d-9dfe-45d0-f48d-58ed8d97ef99"
      },
      "cell_type": "code",
      "source": [
        "from keras.applications.resnet50 import ResNet50, preprocess_input\n",
        "\n",
        "HEIGHT = 300\n",
        "WIDTH = 300\n",
        "\n",
        "base_model = ResNet50(weights='imagenet', \n",
        "                      include_top=False, \n",
        "                      input_shape=(HEIGHT, WIDTH, 3))\n",
        "\n",
        "from keras.preprocessing.image import ImageDataGenerator\n",
        "\n",
        "TRAIN_DIR = \"drive/My Drive/Data\"\n",
        "HEIGHT = 300\n",
        "WIDTH = 300\n",
        "BATCH_SIZE = 8\n",
        "\n",
        "train_datagen =  ImageDataGenerator(\n",
        "      preprocessing_function=preprocess_input,\n",
        "      rotation_range=90,\n",
        "      horizontal_flip=True,\n",
        "      vertical_flip=True,\n",
        "      validation_split=0.1\n",
        "    )\n",
        "\n",
        "train_generator = train_datagen.flow_from_directory(TRAIN_DIR, \n",
        "                                                    target_size=(HEIGHT, WIDTH), \n",
        "                                                    batch_size=BATCH_SIZE,\n",
        "                                                    subset='training')\n",
        "\n",
        "val_generator = train_datagen.flow_from_directory(TRAIN_DIR, \n",
        "                                                    target_size=(HEIGHT, WIDTH), \n",
        "                                                    batch_size=BATCH_SIZE,\n",
        "                                                    subset='validation')"
      ],
      "execution_count": 9,
      "outputs": [
        {
          "output_type": "stream",
          "text": [
            "/usr/local/lib/python3.6/dist-packages/keras_applications/resnet50.py:265: UserWarning: The output shape of `ResNet50(include_top=False)` has been changed since Keras 2.2.0.\n",
            "  warnings.warn('The output shape of `ResNet50(include_top=False)` '\n"
          ],
          "name": "stderr"
        },
        {
          "output_type": "stream",
          "text": [
            "Found 1800 images belonging to 2 classes.\n",
            "Found 200 images belonging to 2 classes.\n"
          ],
          "name": "stdout"
        }
      ]
    },
    {
      "metadata": {
        "id": "SyqJ7MQHDXCo",
        "colab_type": "text"
      },
      "cell_type": "markdown",
      "source": [
        "## This code assembles the model as previously, we removed the output layers of ResNet so we need to add our own output layers\n",
        "\n",
        "### NB we also set the imported layers from ResNet as untrainable. "
      ]
    },
    {
      "metadata": {
        "id": "jLQPJtmhT_SA",
        "colab_type": "code",
        "colab": {}
      },
      "cell_type": "code",
      "source": [
        "from keras.layers import Dense, Activation, Flatten, Dropout\n",
        "from keras.models import Sequential, Model\n",
        "\n",
        "\n",
        "def build_finetune_model(base_model, dropout, fc_layers, num_classes):\n",
        "    for layer in base_model.layers:\n",
        "        layer.trainable = False\n",
        "\n",
        "    x = base_model.output\n",
        "    x = Flatten()(x)\n",
        "    for fc in fc_layers:\n",
        "        # New FC layer, random init\n",
        "        x = Dense(fc, activation='relu')(x) \n",
        "        x = Dropout(dropout)(x)\n",
        "\n",
        "    # New softmax layer\n",
        "    predictions = Dense(num_classes, activation='softmax')(x) \n",
        "    \n",
        "    finetune_model = Model(inputs=base_model.input, outputs=predictions)\n",
        "\n",
        "    return finetune_model\n",
        "  \n",
        "class_list = ['compound_figure', 'non_compound_figure']\n",
        "FC_LAYERS = [1024]\n",
        "dropout = 0.5\n",
        "\n",
        "finetune_model = build_finetune_model(base_model, \n",
        "                                      dropout=dropout, \n",
        "                                      fc_layers=FC_LAYERS, \n",
        "                                      num_classes=len(class_list))\n"
      ],
      "execution_count": 0,
      "outputs": []
    },
    {
      "metadata": {
        "id": "2oyQLrK3Hlf5",
        "colab_type": "text"
      },
      "cell_type": "markdown",
      "source": [
        "# Now we can fit the last layers to the data\n",
        "## Go to Edit -> Notebook Settings - > Hardware accelaration and select GPU for much quicker train time"
      ]
    },
    {
      "metadata": {
        "id": "ngPkW7jiUCV8",
        "colab_type": "code",
        "colab": {
          "base_uri": "https://localhost:8080/",
          "height": 428
        },
        "outputId": "e55cd0af-d927-4f26-8b54-4f03b56bc9ce"
      },
      "cell_type": "code",
      "source": [
        "from keras.optimizers import SGD, Adam\n",
        "from keras.callbacks import ModelCheckpoint\n",
        "\n",
        "NUM_EPOCHS = 10\n",
        "BATCH_SIZE = 8\n",
        "num_train_images = 2000\n",
        "\n",
        "adam = Adam(lr=0.00001)\n",
        "finetune_model.compile(adam, loss='categorical_crossentropy', metrics=['accuracy'])\n",
        "\n",
        "filepath=\"drive/My Drive\" + \"_model_weights.h5\"\n",
        "checkpoint = ModelCheckpoint(filepath, monitor=[\"acc\"], verbose=1, mode='max')\n",
        "callbacks_list = [checkpoint]\n",
        "\n",
        "history = finetune_model.fit_generator(train_generator, \n",
        "                                       epochs=NUM_EPOCHS, \n",
        "                                       workers=8, \n",
        "                                       steps_per_epoch=num_train_images // BATCH_SIZE, \n",
        "                                       shuffle=True, \n",
        "                                       validation_data = val_generator,\n",
        "                                       validation_steps = val_generator.samples // BATCH_SIZE\n",
        "                                      )"
      ],
      "execution_count": 0,
      "outputs": [
        {
          "output_type": "stream",
          "text": [
            "WARNING:tensorflow:From /usr/local/lib/python3.6/dist-packages/tensorflow/python/ops/math_ops.py:3066: to_int32 (from tensorflow.python.ops.math_ops) is deprecated and will be removed in a future version.\n",
            "Instructions for updating:\n",
            "Use tf.cast instead.\n",
            "Epoch 1/10\n",
            "250/250 [==============================] - 195s 780ms/step - loss: 1.2533 - acc: 0.6860 - val_loss: 0.8663 - val_acc: 0.7000\n",
            "Epoch 2/10\n",
            "250/250 [==============================] - 99s 397ms/step - loss: 0.7266 - acc: 0.7610 - val_loss: 1.0577 - val_acc: 0.6300\n",
            "Epoch 3/10\n",
            "250/250 [==============================] - 99s 396ms/step - loss: 0.5846 - acc: 0.7670 - val_loss: 0.5847 - val_acc: 0.7500\n",
            "Epoch 4/10\n",
            "250/250 [==============================] - 99s 396ms/step - loss: 0.4806 - acc: 0.7825 - val_loss: 0.5489 - val_acc: 0.7600\n",
            "Epoch 5/10\n",
            "250/250 [==============================] - 99s 397ms/step - loss: 0.4360 - acc: 0.8030 - val_loss: 0.6216 - val_acc: 0.7050\n",
            "Epoch 6/10\n",
            "250/250 [==============================] - 99s 397ms/step - loss: 0.4174 - acc: 0.8185 - val_loss: 0.6611 - val_acc: 0.7100\n",
            "Epoch 7/10\n",
            "250/250 [==============================] - 99s 397ms/step - loss: 0.4389 - acc: 0.8085 - val_loss: 0.5042 - val_acc: 0.7400\n",
            "Epoch 8/10\n",
            "250/250 [==============================] - 99s 396ms/step - loss: 0.3806 - acc: 0.8350 - val_loss: 0.5631 - val_acc: 0.7550\n",
            "Epoch 9/10\n",
            "250/250 [==============================] - 99s 396ms/step - loss: 0.4162 - acc: 0.8230 - val_loss: 0.5469 - val_acc: 0.7650\n",
            "Epoch 10/10\n",
            "250/250 [==============================] - 99s 397ms/step - loss: 0.3785 - acc: 0.8335 - val_loss: 0.5250 - val_acc: 0.7750\n"
          ],
          "name": "stdout"
        }
      ]
    },
    {
      "metadata": {
        "id": "0AsuSlzS_qXy",
        "colab_type": "code",
        "colab": {
          "base_uri": "https://localhost:8080/",
          "height": 298
        },
        "outputId": "1e2ed870-b049-46ba-9892-7793a61eaf33"
      },
      "cell_type": "code",
      "source": [
        "import matplotlib.pyplot as plt\n",
        "def plot_training(history):\n",
        "    acc = history.history['acc']\n",
        "    val_acc = history.history['val_acc']\n",
        "    loss = history.history['loss']\n",
        "    val_loss = history.history['val_loss']\n",
        "    epochs = range(len(acc))\n",
        "\n",
        "    plt.plot(epochs, acc, 'r.')\n",
        "    plt.plot(epochs, val_acc, 'r')\n",
        "    plt.title('Training and validation accuracy')\n",
        "\n",
        "    # plt.figure()\n",
        "    # plt.plot(epochs, loss, 'r.')\n",
        "    # plt.plot(epochs, val_loss, 'r-')\n",
        "    # plt.title('Training and validation loss')\n",
        "    plt.show()\n",
        "\n",
        "    plt.savefig('acc_vs_epochs.png')\n",
        "\n",
        "plot_training(history)"
      ],
      "execution_count": 15,
      "outputs": [
        {
          "output_type": "display_data",
          "data": {
            "image/png": "[encoded data removed]",
            "text/plain": [
              "<Figure size 432x288 with 1 Axes>"
            ]
          },
          "metadata": {
            "tags": []
          }
        },
        {
          "output_type": "display_data",
          "data": {
            "text/plain": [
              "<Figure size 432x288 with 0 Axes>"
            ]
          },
          "metadata": {
            "tags": []
          }
        }
      ]
    },
    {
      "metadata": {
        "id": "gHV-9cuWFoqA",
        "colab_type": "code",
        "colab": {
          "base_uri": "https://localhost:8080/",
          "height": 34
        },
        "outputId": "5213aeb7-3cbd-4325-e91f-e2689180a6d4"
      },
      "cell_type": "code",
      "source": [
        ""
      ],
      "execution_count": 3,
      "outputs": [
        {
          "output_type": "execute_result",
          "data": {
            "text/plain": [
              "['/job:localhost/replica:0/task:0/device:GPU:0']"
            ]
          },
          "metadata": {
            "tags": []
          },
          "execution_count": 3
        }
      ]
    }
  ]
}